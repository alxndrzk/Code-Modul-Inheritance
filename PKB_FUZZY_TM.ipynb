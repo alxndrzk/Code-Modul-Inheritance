{
  "nbformat": 4,
  "nbformat_minor": 0,
  "metadata": {
    "colab": {
      "provenance": [],
      "include_colab_link": true
    },
    "kernelspec": {
      "name": "python3",
      "display_name": "Python 3"
    },
    "language_info": {
      "name": "python"
    }
  },
  "cells": [
    {
      "cell_type": "markdown",
      "metadata": {
        "id": "view-in-github",
        "colab_type": "text"
      },
      "source": [
        "<a href=\"https://colab.research.google.com/github/alxndrzk/Code_Modul_Inheritance/blob/main/PKB_FUZZY_TM.ipynb\" target=\"_parent\"><img src=\"https://colab.research.google.com/assets/colab-badge.svg\" alt=\"Open In Colab\"/></a>"
      ]
    },
    {
      "cell_type": "code",
      "execution_count": null,
      "metadata": {
        "id": "qeliWcdI6U5r"
      },
      "outputs": [],
      "source": [
        "import matplotlib.pyplot as plt"
      ]
    },
    {
      "cell_type": "code",
      "source": [
        "#Nilai Asap Rendah\n",
        "x = []\n",
        "y = []\n",
        "for i in range(0,551):\n",
        "  x.append(i)\n",
        "  if i <= 0:\n",
        "    y.append(1)\n",
        "  elif i >= 250:\n",
        "    y.append(0)\n",
        "  else:\n",
        "    y.append((250-i)/250)\n",
        "\n",
        "plt.plot(x,y)"
      ],
      "metadata": {
        "colab": {
          "base_uri": "https://localhost:8080/",
          "height": 282
        },
        "id": "z7p7StaH6coP",
        "outputId": "92b285db-e8b8-465b-db7a-c553f1911d22"
      },
      "execution_count": null,
      "outputs": [
        {
          "output_type": "execute_result",
          "data": {
            "text/plain": [
              "[<matplotlib.lines.Line2D at 0x7ff216d96c90>]"
            ]
          },
          "metadata": {},
          "execution_count": 2
        },
        {
          "output_type": "display_data",
          "data": {
            "text/plain": [
              "<Figure size 432x288 with 1 Axes>"
            ],
            "image/png": "[encoded data removed]"
          },
          "metadata": {
            "needs_background": "light"
          }
        }
      ]
    },
    {
      "cell_type": "code",
      "source": [
        "#Nilai Asap Sedang\n",
        "x1 = []\n",
        "y1 = []\n",
        "for i in range(0,551):\n",
        "  x1.append(i)\n",
        "  if 250 <= i <= 375:\n",
        "    y1.append((375-i)/(375-250))\n",
        "  elif 125 <= i <= 250:\n",
        "    y1.append((i-125)/(250-125))\n",
        "  elif i <= 125 or i >= 375:\n",
        "    y1.append(0)\n",
        "  else:\n",
        "    y1.append(0)\n",
        "\n",
        "plt.plot(x1,y1)"
      ],
      "metadata": {
        "colab": {
          "base_uri": "https://localhost:8080/",
          "height": 282
        },
        "id": "3Z6uQPj69tA1",
        "outputId": "486fb44d-20a7-4086-d7c2-1070f75f3562"
      },
      "execution_count": null,
      "outputs": [
        {
          "output_type": "execute_result",
          "data": {
            "text/plain": [
              "[<matplotlib.lines.Line2D at 0x7ff21326f050>]"
            ]
          },
          "metadata": {},
          "execution_count": 3
        },
        {
          "output_type": "display_data",
          "data": {
            "text/plain": [
              "<Figure size 432x288 with 1 Axes>"
            ],
            "image/png": "[encoded data removed]"
          },
          "metadata": {
            "needs_background": "light"
          }
        }
      ]
    },
    {
      "cell_type": "code",
      "source": [],
      "metadata": {
        "id": "N_jbkRRFb9N4"
      },
      "execution_count": null,
      "outputs": []
    },
    {
      "cell_type": "code",
      "source": [
        "#Nilai Asap Tinggi\n",
        "x2 = []\n",
        "y2 = []\n",
        "for i in range(0,551):\n",
        "  x2.append(i)\n",
        "  if i >= 500:\n",
        "    y2.append(1)\n",
        "  elif i <= 250:\n",
        "    y2.append(0)\n",
        "  else:\n",
        "    y2.append((i-250)/(500-250))\n",
        "\n",
        "plt.plot(x2,y2)"
      ],
      "metadata": {
        "colab": {
          "base_uri": "https://localhost:8080/",
          "height": 282
        },
        "id": "t29EUPufDHtd",
        "outputId": "8fa5cb3d-5e4f-4416-aea6-e96310c0efa0"
      },
      "execution_count": null,
      "outputs": [
        {
          "output_type": "execute_result",
          "data": {
            "text/plain": [
              "[<matplotlib.lines.Line2D at 0x7ff212dfed90>]"
            ]
          },
          "metadata": {},
          "execution_count": 4
        },
        {
          "output_type": "display_data",
          "data": {
            "text/plain": [
              "<Figure size 432x288 with 1 Axes>"
            ],
            "image/png": "[encoded data removed]"
          },
          "metadata": {
            "needs_background": "light"
          }
        }
      ]
    },
    {
      "cell_type": "code",
      "source": [
        "plt.plot(x,y,x1,y1,x2,y2)"
      ],
      "metadata": {
        "colab": {
          "base_uri": "https://localhost:8080/",
          "height": 317
        },
        "id": "8z3XAUQpVR__",
        "outputId": "7ff86107-cf63-4c7b-dc78-bbae842c4fb1"
      },
      "execution_count": null,
      "outputs": [
        {
          "output_type": "execute_result",
          "data": {
            "text/plain": [
              "[<matplotlib.lines.Line2D at 0x7ff212d61510>,\n",
              " <matplotlib.lines.Line2D at 0x7ff212d3e550>,\n",
              " <matplotlib.lines.Line2D at 0x7ff212d3e710>]"
            ]
          },
          "metadata": {},
          "execution_count": 5
        },
        {
          "output_type": "display_data",
          "data": {
            "text/plain": [
              "<Figure size 432x288 with 1 Axes>"
            ],
            "image/png": "[encoded data removed]"
          },
          "metadata": {
            "needs_background": "light"
          }
        }
      ]
    },
    {
      "cell_type": "code",
      "source": [
        "#Nilai Karbon Monoksida Rendah\n",
        "x3 = []\n",
        "y3 = []\n",
        "for i in range(0,66):\n",
        "  x3.append(i)\n",
        "  if i <= 0:\n",
        "    y3.append(1)\n",
        "  elif i >= 28.75:\n",
        "    y3.append(0)\n",
        "  else:\n",
        "    y3.append((28.75-i)/28.75)\n",
        "\n",
        "plt.plot(x3,y3)\n"
      ],
      "metadata": {
        "colab": {
          "base_uri": "https://localhost:8080/",
          "height": 282
        },
        "id": "Xq9sx4mGGdii",
        "outputId": "ee16cb1e-4b53-4c14-9bd1-25494b2971ca"
      },
      "execution_count": null,
      "outputs": [
        {
          "output_type": "execute_result",
          "data": {
            "text/plain": [
              "[<matplotlib.lines.Line2D at 0x7faab64d3410>]"
            ]
          },
          "metadata": {},
          "execution_count": 7
        },
        {
          "output_type": "display_data",
          "data": {
            "text/plain": [
              "<Figure size 432x288 with 1 Axes>"
            ],
            "image/png": "[encoded data removed]"
          },
          "metadata": {
            "needs_background": "light"
          }
        }
      ]
    },
    {
      "cell_type": "code",
      "source": [
        "#Nilai Karbon Monoksida Sedang\n",
        "x4 = []\n",
        "y4 = []\n",
        "for i in range(0, 66):\n",
        "  x4.append(i)\n",
        "  if 28.75 <= i <= 43.125:\n",
        "    y4.append((43.125-i)/(43.125-28.75))\n",
        "  elif 14.375 <= i <= 43.125:\n",
        "    y4.append((i-14.375)/(28.75-14.375))\n",
        "  elif i <= 14.375 or i >= 43.125:\n",
        "    y4.append(0)\n",
        "  else:\n",
        "    y4.append(0)\n",
        "\n",
        "plt.plot(x4,y4)"
      ],
      "metadata": {
        "colab": {
          "base_uri": "https://localhost:8080/",
          "height": 282
        },
        "id": "oM9ClVseHOZW",
        "outputId": "d6c01485-fb1b-4c70-82b9-22c65aad4b89"
      },
      "execution_count": null,
      "outputs": [
        {
          "output_type": "execute_result",
          "data": {
            "text/plain": [
              "[<matplotlib.lines.Line2D at 0x7faab6440a90>]"
            ]
          },
          "metadata": {},
          "execution_count": 8
        },
        {
          "output_type": "display_data",
          "data": {
            "text/plain": [
              "<Figure size 432x288 with 1 Axes>"
            ],
            "image/png": "[encoded data removed]"
          },
          "metadata": {
            "needs_background": "light"
          }
        }
      ]
    },
    {
      "cell_type": "code",
      "source": [
        "#Nilai Karbon Monoksida Tinggi\n",
        "x5 = []\n",
        "y5 = []\n",
        "for i in range(0, 66):\n",
        "  x5.append(i)\n",
        "  if i >= 57.5:\n",
        "    y5.append(1)\n",
        "  elif i <= 28.75:\n",
        "    y5.append(0)\n",
        "  else:\n",
        "    y5.append((i-28.75)/(57.5-28.75))\n",
        "\n",
        "plt.plot(x5,y5)\n"
      ],
      "metadata": {
        "colab": {
          "base_uri": "https://localhost:8080/",
          "height": 282
        },
        "id": "SfXLUmcaHoAG",
        "outputId": "c9c87753-d327-4489-e60a-796e53d819ce"
      },
      "execution_count": null,
      "outputs": [
        {
          "output_type": "execute_result",
          "data": {
            "text/plain": [
              "[<matplotlib.lines.Line2D at 0x7faab63bd850>]"
            ]
          },
          "metadata": {},
          "execution_count": 9
        },
        {
          "output_type": "display_data",
          "data": {
            "text/plain": [
              "<Figure size 432x288 with 1 Axes>"
            ],
            "image/png": "[encoded data removed]"
          },
          "metadata": {
            "needs_background": "light"
          }
        }
      ]
    },
    {
      "cell_type": "code",
      "source": [
        "plt.plot(x3,y3,x4,y4,x5,y5)"
      ],
      "metadata": {
        "colab": {
          "base_uri": "https://localhost:8080/",
          "height": 317
        },
        "id": "c0hCegXGICN0",
        "outputId": "8335b15d-08e5-4728-df44-827abc1a1c13"
      },
      "execution_count": null,
      "outputs": [
        {
          "output_type": "execute_result",
          "data": {
            "text/plain": [
              "[<matplotlib.lines.Line2D at 0x7faab6321e50>,\n",
              " <matplotlib.lines.Line2D at 0x7faab632c110>,\n",
              " <matplotlib.lines.Line2D at 0x7faab632c2d0>]"
            ]
          },
          "metadata": {},
          "execution_count": 10
        },
        {
          "output_type": "display_data",
          "data": {
            "text/plain": [
              "<Figure size 432x288 with 1 Axes>"
            ],
            "image/png": "[encoded data removed]"
          },
          "metadata": {
            "needs_background": "light"
          }
        }
      ]
    },
    {
      "cell_type": "code",
      "source": [
        "#Nilai Debu Rendah\n",
        "x6 = []\n",
        "y6 = []\n",
        "for i in range(0, 651):\n",
        "  x6.append(i)\n",
        "  if i <= 0:\n",
        "    y6.append(1)\n",
        "  elif i >= 300:\n",
        "    y6.append(0)\n",
        "  else:\n",
        "    y6.append((300-i)/(300))\n",
        "\n",
        "plt.plot(x6,y6)"
      ],
      "metadata": {
        "colab": {
          "base_uri": "https://localhost:8080/",
          "height": 282
        },
        "id": "5EdpYMAOKPpY",
        "outputId": "9c3aa6f0-e1ae-4afd-c4a1-8aa0f90594c6"
      },
      "execution_count": null,
      "outputs": [
        {
          "output_type": "execute_result",
          "data": {
            "text/plain": [
              "[<matplotlib.lines.Line2D at 0x7faab62a3650>]"
            ]
          },
          "metadata": {},
          "execution_count": 11
        },
        {
          "output_type": "display_data",
          "data": {
            "text/plain": [
              "<Figure size 432x288 with 1 Axes>"
            ],
            "image/png": "[encoded data removed]"
          },
          "metadata": {
            "needs_background": "light"
          }
        }
      ]
    },
    {
      "cell_type": "code",
      "source": [
        "#Nilai Debu Sedang\n",
        "x7 = []\n",
        "y7 = []\n",
        "for i in range(0, 651):\n",
        "  x7.append(i)\n",
        "  if 300 <= i <= 450:\n",
        "    y7.append((450-i)/(450-300))\n",
        "  elif 150 <= i <= 300:\n",
        "    y7.append((i-150)/(300-150))\n",
        "  elif i <= 150 or i >= 450:\n",
        "    y7.append(0)\n",
        "  else:\n",
        "    y7.append(0)\n",
        "\n",
        "plt.plot(x7,y7)"
      ],
      "metadata": {
        "colab": {
          "base_uri": "https://localhost:8080/",
          "height": 282
        },
        "id": "6E2xtGEHKlkB",
        "outputId": "8b4b5035-3306-4c85-8c61-c578f02e00a2"
      },
      "execution_count": null,
      "outputs": [
        {
          "output_type": "execute_result",
          "data": {
            "text/plain": [
              "[<matplotlib.lines.Line2D at 0x7faab6215cd0>]"
            ]
          },
          "metadata": {},
          "execution_count": 12
        },
        {
          "output_type": "display_data",
          "data": {
            "text/plain": [
              "<Figure size 432x288 with 1 Axes>"
            ],
            "image/png": "[encoded data removed]"
          },
          "metadata": {
            "needs_background": "light"
          }
        }
      ]
    },
    {
      "cell_type": "code",
      "source": [
        "#Nilai Debu Tinggi\n",
        "x8 = []\n",
        "y8 = []\n",
        "for i in range(0, 651):\n",
        "  x8.append(i)\n",
        "  if i <= 300:\n",
        "    y8.append(0)\n",
        "  elif i >= 600:\n",
        "    y8.append(1)\n",
        "  else:\n",
        "    y8.append((i-300)/(600-300))\n",
        "\n",
        "plt.plot(x8,y8)"
      ],
      "metadata": {
        "colab": {
          "base_uri": "https://localhost:8080/",
          "height": 282
        },
        "id": "9PfBCKMSK1oZ",
        "outputId": "347bbc93-090c-481e-89d6-9783b3b34312"
      },
      "execution_count": null,
      "outputs": [
        {
          "output_type": "execute_result",
          "data": {
            "text/plain": [
              "[<matplotlib.lines.Line2D at 0x7faab620d890>]"
            ]
          },
          "metadata": {},
          "execution_count": 13
        },
        {
          "output_type": "display_data",
          "data": {
            "text/plain": [
              "<Figure size 432x288 with 1 Axes>"
            ],
            "image/png": "[encoded data removed]"
          },
          "metadata": {
            "needs_background": "light"
          }
        }
      ]
    },
    {
      "cell_type": "code",
      "source": [
        "plt.plot(x6,y6,x7,y7,x8,y8)"
      ],
      "metadata": {
        "colab": {
          "base_uri": "https://localhost:8080/",
          "height": 317
        },
        "id": "YUw4ahj0LAur",
        "outputId": "4f8ec600-1bb8-4da7-d563-4950c5fb48e4"
      },
      "execution_count": null,
      "outputs": [
        {
          "output_type": "execute_result",
          "data": {
            "text/plain": [
              "[<matplotlib.lines.Line2D at 0x7faab6175d10>,\n",
              " <matplotlib.lines.Line2D at 0x7faab6175f90>,\n",
              " <matplotlib.lines.Line2D at 0x7faab6182190>]"
            ]
          },
          "metadata": {},
          "execution_count": 14
        },
        {
          "output_type": "display_data",
          "data": {
            "text/plain": [
              "<Figure size 432x288 with 1 Axes>"
            ],
            "image/png": "[encoded data removed]"
          },
          "metadata": {
            "needs_background": "light"
          }
        }
      ]
    },
    {
      "cell_type": "code",
      "source": [
        "#Derajat Keanggotaan Variabel Output ISPU\n",
        "x9 = []\n",
        "y9 = []\n",
        "\n",
        "for k in range (0,501):\n",
        "  x9.append(k)\n",
        "  if 0 <= k <= 50:\n",
        "    y9.append((50-k)/50)\n",
        "  elif 75 <= k <= 100:\n",
        "    y9.append((100-k)/(100-75))\n",
        "  elif 50 <= k <= 75:\n",
        "    y9.append((k-50)/(75-50))\n",
        "  elif k <= 50 or k <= 100:\n",
        "    y9.append(0)\n",
        "  elif 150 <= k <= 200:\n",
        "    y9.append((200-k)/(200-150))\n",
        "  elif 100 <= k <= 150:\n",
        "    y9.append((k-100)/(150-100))\n",
        "  elif k <= 100 or k <= 150:\n",
        "    y9.append(0)\n",
        "  elif 250 <= k <= 300:\n",
        "    y9.append((300-k)/(300-250))\n",
        "  elif 200 <= k <= 250:\n",
        "    y9.append((k-200)/(250-200))\n",
        "  elif k <= 200 or k <= 250:\n",
        "    y9.append(0)\n",
        "  elif k <= 300:\n",
        "    y9.append(0)\n",
        "  elif k >= 400:\n",
        "    y9.append(1)\n",
        "  else:\n",
        "    y9.append((k-300)/(400-300))\n",
        "\n",
        "plt.plot(x9,y9)"
      ],
      "metadata": {
        "colab": {
          "base_uri": "https://localhost:8080/",
          "height": 282
        },
        "id": "jcXY0sO3qzAb",
        "outputId": "b169dd94-4b70-4681-b99b-0f96618e41e9"
      },
      "execution_count": null,
      "outputs": [
        {
          "output_type": "execute_result",
          "data": {
            "text/plain": [
              "[<matplotlib.lines.Line2D at 0x7faab610ac10>]"
            ]
          },
          "metadata": {},
          "execution_count": 15
        },
        {
          "output_type": "display_data",
          "data": {
            "text/plain": [
              "<Figure size 432x288 with 1 Axes>"
            ],
            "image/png": "[encoded data removed]"
          },
          "metadata": {
            "needs_background": "light"
          }
        }
      ]
    },
    {
      "cell_type": "code",
      "source": [
        "def asapRendah(asap):\n",
        "  if asap <= 0:\n",
        "    return 1\n",
        "  elif asap <= 250 and asap >= 0:\n",
        "    return((250-asap)/250)\n",
        "  else:\n",
        "    return 0"
      ],
      "metadata": {
        "id": "vFbKEitDs_gj"
      },
      "execution_count": null,
      "outputs": []
    },
    {
      "cell_type": "code",
      "source": [
        "def asapSedang(asap):\n",
        "  if 250 <= asap <= 375:\n",
        "    return((375-asap)/(375-250))\n",
        "  elif 125 <= asap <= 250:\n",
        "    return((asap-125)/(250-125))\n",
        "  elif asap <= 125 or asap >= 375:\n",
        "    return 0\n",
        "  else:\n",
        "    return 0"
      ],
      "metadata": {
        "id": "yeBqUOS1uLHF"
      },
      "execution_count": null,
      "outputs": []
    },
    {
      "cell_type": "code",
      "source": [
        "def asapTinggi(asap):\n",
        "  if asap >= 500:\n",
        "    return 1\n",
        "  elif 250 <= asap <= 500:\n",
        "    return ((asap-125)/(250-125))\n",
        "  else:\n",
        "    return 0"
      ],
      "metadata": {
        "id": "CPo3-nvCvBNO"
      },
      "execution_count": null,
      "outputs": []
    },
    {
      "cell_type": "code",
      "source": [
        "def monoksidaRendah(CO):\n",
        "  if CO <= 0:\n",
        "    return 1\n",
        "  elif 0 <= CO <= 28.75:\n",
        "    return((28.75-CO)/28.75)\n",
        "  else:\n",
        "    return 0"
      ],
      "metadata": {
        "id": "zYRzTD0iwaSI"
      },
      "execution_count": null,
      "outputs": []
    },
    {
      "cell_type": "code",
      "source": [
        "def monoksidaSedang(CO):\n",
        "  if 28.75 <= CO <= 43.125:\n",
        "    return ((43.125-CO)/(43.125-28.75))\n",
        "  elif 14.375 <= CO <= 43.125:\n",
        "    return ((CO-14.375)/(28.75-14.375))\n",
        "  elif CO <= 14.375 or CO >= 43.125:\n",
        "    return  0\n",
        "  else:\n",
        "    return 0"
      ],
      "metadata": {
        "id": "Z7bw7Gpkzyrn"
      },
      "execution_count": null,
      "outputs": []
    },
    {
      "cell_type": "code",
      "source": [
        "def monoksidaTinggi(CO):\n",
        "  if CO >= 57.5:\n",
        "    return 1\n",
        "  elif 28.75 <= CO <= 43.125:\n",
        "    return ((CO - 28.75)/(57.5 - 28.75))\n",
        "  else:\n",
        "    return 0"
      ],
      "metadata": {
        "id": "QPITTd5o0bAM"
      },
      "execution_count": null,
      "outputs": []
    },
    {
      "cell_type": "code",
      "source": [
        "def debuRendah(debu):\n",
        "  if debu <= 0:\n",
        "    return 1\n",
        "  elif 0 <= debu <= 300:\n",
        "    return ((300-debu)/300)\n",
        "  else:\n",
        "    return 0"
      ],
      "metadata": {
        "id": "CbBfA7dbx8zo"
      },
      "execution_count": null,
      "outputs": []
    },
    {
      "cell_type": "code",
      "source": [
        "def debuSedang(debu):\n",
        "  if 300 <= debu <= 450:\n",
        "    return ((450-i)/(450-300))\n",
        "  elif 150 <= debu <= 300:\n",
        "    return ((debu-150)/(300-150))\n",
        "  elif debu <= 150 or debu >= 450:\n",
        "    return 0\n",
        "  else:\n",
        "    return 0"
      ],
      "metadata": {
        "id": "mt-BceCO1APA"
      },
      "execution_count": null,
      "outputs": []
    },
    {
      "cell_type": "code",
      "source": [
        "def debuTinggi(debu):\n",
        "  if debu <= 300:\n",
        "    return 0\n",
        "  elif 300 <= debu <= 600:\n",
        "    return ((debu-300)/(600-300))\n",
        "  else:\n",
        "    return 1"
      ],
      "metadata": {
        "id": "6zLLENbq13Ml"
      },
      "execution_count": null,
      "outputs": []
    },
    {
      "cell_type": "code",
      "source": [
        "alphaPredicate = []\n",
        "asap = float(input(\"Masukkan asap: \"))\n",
        "CO = float(input(\"Masukkan karbon monoksida: \"))\n",
        "debu = float(input(\"Masukkan debu: \"))\n",
        "\n",
        "R1 = min(asapRendah(asap), monoksidaRendah(CO), debuRendah(debu))\n",
        "R2 = min(asapRendah(asap), monoksidaRendah(CO), debuSedang(debu))\n",
        "R3 = min(asapRendah(asap), monoksidaRendah(CO), debuTinggi(debu))\n",
        "R4 = min(asapRendah(asap), monoksidaSedang(CO), debuRendah(debu))\n",
        "R5 = min(asapRendah(asap), monoksidaSedang(CO), debuSedang(debu))\n",
        "R6 = min(asapRendah(asap), monoksidaSedang(CO), debuTinggi(debu))\n",
        "R7 = min(asapRendah(asap), monoksidaTinggi(CO), debuRendah(debu))\n",
        "R8 = min(asapRendah(asap), monoksidaTinggi(CO), debuSedang(debu))\n",
        "R9 = min(asapRendah(asap), monoksidaTinggi(CO), debuTinggi(debu))\n",
        "R10 = min(asapSedang(asap), monoksidaRendah(CO), debuRendah(debu))\n",
        "R11 = min(asapSedang(asap), monoksidaSedang(CO), debuRendah(debu))\n",
        "R12 = min(asapSedang(asap), monoksidaTinggi(CO), debuRendah(debu))\n",
        "R13 = min(asapSedang(asap), monoksidaRendah(CO), debuSedang(debu))\n",
        "R14 = min(asapSedang(asap), monoksidaSedang(CO), debuSedang(debu))\n",
        "R15 = min(asapSedang(asap), monoksidaTinggi(CO), debuSedang(debu))\n",
        "R16 = min(asapSedang(asap), monoksidaRendah(CO), debuTinggi(debu))\n",
        "R17 = min(asapSedang(asap), monoksidaSedang(CO), debuTinggi(debu))\n",
        "R18 = min(asapSedang(asap), monoksidaTinggi(CO), debuTinggi(debu))\n",
        "R19 = min(asapTinggi(asap), monoksidaRendah(CO), debuRendah(debu))\n",
        "R20 = min(asapTinggi(asap), monoksidaSedang(CO), debuRendah(debu))\n",
        "R21 = min(asapTinggi(asap), monoksidaTinggi(CO), debuRendah(debu))\n",
        "R22 = min(asapTinggi(asap), monoksidaRendah(CO), debuSedang(debu))\n",
        "R23 = min(asapTinggi(asap), monoksidaSedang(CO), debuSedang(debu))\n",
        "R24 = min(asapTinggi(asap), monoksidaTinggi(CO), debuSedang(debu))\n",
        "R25 = min(asapTinggi(asap), monoksidaRendah(CO), debuTinggi(debu))\n",
        "R26 = min(asapTinggi(asap), monoksidaSedang(CO), debuTinggi(debu))\n",
        "R27 = min(asapTinggi(asap), monoksidaTinggi(CO), debuTinggi(debu))\n",
        "\n",
        "alphaPredicate.append(R1)\n",
        "alphaPredicate.append(R2)\n",
        "alphaPredicate.append(R3)\n",
        "alphaPredicate.append(R4)\n",
        "alphaPredicate.append(R5)\n",
        "alphaPredicate.append(R6)\n",
        "alphaPredicate.append(R7)\n",
        "alphaPredicate.append(R8)\n",
        "alphaPredicate.append(R9)\n",
        "alphaPredicate.append(R10)\n",
        "alphaPredicate.append(R11)\n",
        "alphaPredicate.append(R12)\n",
        "alphaPredicate.append(R13)\n",
        "alphaPredicate.append(R14)\n",
        "alphaPredicate.append(R15)\n",
        "alphaPredicate.append(R16)\n",
        "alphaPredicate.append(R17)\n",
        "alphaPredicate.append(R18)\n",
        "alphaPredicate.append(R19)\n",
        "alphaPredicate.append(R20)\n",
        "alphaPredicate.append(R21)\n",
        "alphaPredicate.append(R22)\n",
        "alphaPredicate.append(R23)\n",
        "alphaPredicate.append(R24)\n",
        "alphaPredicate.append(R25)\n",
        "alphaPredicate.append(R26)\n",
        "alphaPredicate.append(R27)\n",
        "\n",
        "print(alphaPredicate)"
      ],
      "metadata": {
        "colab": {
          "base_uri": "https://localhost:8080/"
        },
        "id": "kJQ77JGEshf-",
        "outputId": "1409e540-8f2c-435c-e6ef-e689f961c78f"
      },
      "execution_count": null,
      "outputs": [
        {
          "output_type": "stream",
          "name": "stdout",
          "text": [
            "Masukkan asap: 550\n",
            "Masukkan karbon monoksida: 60\n",
            "Masukkan debu: 650\n",
            "[0, 0, 0, 0, 0, 0, 0, 0, 0, 0, 0, 0, 0, 0, 0, 0, 0, 0, 0, 0, 0, 0, 0, 0, 0, 0, 1]\n"
          ]
        }
      ]
    },
    {
      "cell_type": "code",
      "source": [
        "Zmax = 301 \n",
        "Zmin = 0\n",
        "\n",
        "def baik(x):\n",
        "  return (50 - (x*(50)))\n",
        "\n",
        "def sedang(x):\n",
        "  return (100-(x*(100-51)))\n",
        "\n",
        "def tidakSehat(x):\n",
        "  return(200-(x*(200-101)))\n",
        "\n",
        "def sangatTidakSehat(x):\n",
        "  return (300 - (x*(300-201)))\n",
        "\n",
        "def berbahaya(x):\n",
        "  return (301 - (x*(301-500)))\n",
        "\n",
        "#cons-(x*(cons(cons-1))) \n"
      ],
      "metadata": {
        "id": "d4A-v_6NqS_J"
      },
      "execution_count": null,
      "outputs": []
    },
    {
      "cell_type": "code",
      "source": [
        "Zvalue = []\n",
        "Zvalue.append(baik(R1))\n",
        "Zvalue.append(sedang(R2))\n",
        "Zvalue.append(tidakSehat(R3))\n",
        "Zvalue.append(sedang(R4))\n",
        "Zvalue.append(tidakSehat(R5))\n",
        "Zvalue.append(tidakSehat(R6))\n",
        "Zvalue.append(tidakSehat(R7))\n",
        "Zvalue.append(tidakSehat(R8))\n",
        "Zvalue.append(sangatTidakSehat(R9))\n",
        "Zvalue.append(sedang(R10))\n",
        "Zvalue.append(tidakSehat(R11))\n",
        "Zvalue.append(tidakSehat(R12))\n",
        "Zvalue.append(tidakSehat(R13))\n",
        "Zvalue.append(tidakSehat(R14))\n",
        "Zvalue.append(tidakSehat(R15))\n",
        "Zvalue.append(tidakSehat(R16))\n",
        "Zvalue.append(tidakSehat(R17))\n",
        "Zvalue.append(sangatTidakSehat(R18))\n",
        "Zvalue.append(tidakSehat(R19))\n",
        "Zvalue.append(tidakSehat(R20))\n",
        "Zvalue.append(sangatTidakSehat(R21))\n",
        "Zvalue.append(tidakSehat(R22))\n",
        "Zvalue.append(tidakSehat(R23))\n",
        "Zvalue.append(sangatTidakSehat(R24))\n",
        "Zvalue.append(sangatTidakSehat(R25))\n",
        "Zvalue.append(sangatTidakSehat(R26))\n",
        "Zvalue.append(berbahaya(R27))\n",
        "print(Zvalue)"
      ],
      "metadata": {
        "id": "6gk7aHUlrvuA",
        "colab": {
          "base_uri": "https://localhost:8080/"
        },
        "outputId": "1f2d7fd0-112f-42f7-93d9-713c7dc4ceb5"
      },
      "execution_count": null,
      "outputs": [
        {
          "output_type": "stream",
          "name": "stdout",
          "text": [
            "[50, 100, 200, 100, 200, 200, 200, 200, 300, 100, 200, 200, 200, 200, 200, 200, 200, 300, 200, 200, 300, 200, 200, 300, 300, 300, 500]\n"
          ]
        }
      ]
    },
    {
      "cell_type": "code",
      "source": [
        "hasil = 0\n",
        "hasil2 = 0\n",
        "\n",
        "for n in range(len(Zvalue)):\n",
        "  hasil += (alphaPredicate[n] * Zvalue[n])\n",
        "  hasil2 += alphaPredicate[n]\n",
        "# print(hasil)\n",
        "# print(hasil2)\n",
        "ZFinal = hasil/hasil2\n",
        "\n",
        "if 0 < ZFinal <= 50 :\n",
        "  print(\"Baik\")\n",
        "elif 51 <= ZFinal <= 100:\n",
        "  print(\"Sedang\")\n",
        "elif 101 <= ZFinal <= 200:\n",
        "  print(\"Tidak sehat\")\n",
        "elif 201 <= ZFinal <= 300:\n",
        "  print(\"Sangat tidak sehat\")\n",
        "else:\n",
        "  print(\"Berbahaya\")"
      ],
      "metadata": {
        "colab": {
          "base_uri": "https://localhost:8080/"
        },
        "id": "8B9dKscwATK0",
        "outputId": "6bdc6b60-954f-44ac-ba16-d501bbde815f"
      },
      "execution_count": null,
      "outputs": [
        {
          "output_type": "stream",
          "name": "stdout",
          "text": [
            "Berbahaya\n"
          ]
        }
      ]
    }
  ]
}